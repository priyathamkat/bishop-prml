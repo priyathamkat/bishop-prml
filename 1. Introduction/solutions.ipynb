{
 "cells": [
  {
   "cell_type": "markdown",
   "metadata": {},
   "source": [
    "# 1. Introduction"
   ]
  },
  {
   "cell_type": "markdown",
   "metadata": {},
   "source": [
    "41.\n",
    "\n",
    "$$\n",
    "\t\\begin{align*}\n",
    "\t\t\\mathrm{I}[\\pmb{x}, \\pmb{y}] &\\equiv \\mathrm{KL}(p(\\pmb{x}, \\pmb{y}) \\| p(\\pmb{x})p(\\pmb{y})) \\\\\n",
    "\t\t&= -\\int \\int p(\\pmb{x}, \\pmb{y}) \\ln {\\frac{p(\\pmb{x})p(\\pmb{y})}{p(\\pmb{x}, \\pmb{y})}} \\mathrm{d}\\pmb{x}\\mathrm{d}\\pmb{y} \\\\\n",
    "\t\t&= -\\int \\int p(\\pmb{x}, \\pmb{y}) \\ln {\\frac{p(\\pmb{x})p(\\pmb{y})}{p(\\pmb{x}) p(\\pmb{y}|\\pmb{x})}} \\mathrm{d}\\pmb{x}\\mathrm{d}\\pmb{y} \\\\\n",
    "\t\t&= -\\int \\int p(\\pmb{x}, \\pmb{y}) \\ln {\\frac{p(\\pmb{y})}{p(\\pmb{y}|\\pmb{x})}} \\mathrm{d}\\pmb{x}\\mathrm{d}\\pmb{y} \\\\\n",
    "\t\t&= -\\int \\int p(\\pmb{x}, \\pmb{y}) (\\ln {p(\\pmb{y})} - \\ln {p(\\pmb{y}|\\pmb{x})}) \\mathrm{d}\\pmb{x}\\mathrm{d}\\pmb{y} \\\\\n",
    "\t\t&= -\\int \\int p(\\pmb{x}, \\pmb{y}) \\ln {p(\\pmb{y})} \\mathrm{d}\\pmb{x}\\mathrm{d}\\pmb{y} + \\int \\int p(\\pmb{x}, \\pmb{y}) \\ln {p(\\pmb{y}|\\pmb{x})}) \\mathrm{d}\\pmb{x}\\mathrm{d}\\pmb{y} \\\\\n",
    "\t\t&= -\\int p(\\pmb{y}) \\ln {p(\\pmb{y})} \\mathrm{d}\\pmb{y} + \\int \\int p(\\pmb{x}, \\pmb{y}) \\ln {p(\\pmb{y}|\\pmb{x})}) \\mathrm{d}\\pmb{x}\\mathrm{d}\\pmb{y} \\\\\n",
    "\t\t&= \\mathrm{H}(\\pmb{y}) - \\mathrm{H}(\\pmb{y}|\\pmb{x}) \\\\\n",
    "\t\t\\text{Similarly,    } &= \\mathrm{H}(\\pmb{x}) - \\mathrm{H}(\\pmb{x}|\\pmb{y})\n",
    "\t\\end{align*}\n",
    "$$"
   ]
  }
 ],
 "metadata": {
  "kernelspec": {
   "display_name": "Python 3",
   "language": "python",
   "name": "python3"
  },
  "language_info": {
   "codemirror_mode": {
    "name": "ipython",
    "version": 3
   },
   "file_extension": ".py",
   "mimetype": "text/x-python",
   "name": "python",
   "nbconvert_exporter": "python",
   "pygments_lexer": "ipython3",
   "version": "3.6.8"
  }
 },
 "nbformat": 4,
 "nbformat_minor": 2
}
