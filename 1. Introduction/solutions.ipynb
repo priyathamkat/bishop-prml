{
 "cells": [
  {
   "cell_type": "markdown",
   "metadata": {},
   "source": [
    "# 1. Introduction"
   ]
  },
  {
   "cell_type": "markdown",
   "metadata": {},
   "source": [
    "3.\n",
    "\n",
    "$$\n",
    "\t\\begin{align*}\n",
    "\t\tp(a) &= p(a, r) + p(a, b) + p(a, g) \\\\\n",
    "\t\t     &= p(r)p(a | r) + p(b)p(a | b) + p(g)p(a | g) \\\\\n",
    "\t\t     &= 0.2 \\times 3/10 + 0.2 \\times 1/2 + 0.6 \\times 3/10 \\\\\n",
    "\t\t     &= 0.34 \\\\\n",
    "\t\tp(g|o) &= \\frac{p(g)p(o|g)}{p(o)} \\\\\n",
    "\t\t\t   &= \\frac{p(g)p(o|g)}{p(r)p(o|r) + p(b)p(o|b) + p(g)p(o|g)} \\\\\n",
    "\t\t\t   &= \\frac{0.6 \\times 3/10}{0.2 \\times 4/10 + 0.2 \\times 1/2 + 0.6 \\times 3/10} \\\\\n",
    "\t\t\t   &= 0.5\n",
    "\t\\end{align*}\n",
    "$$"
   ]
  },
  {
   "cell_type": "markdown",
   "metadata": {},
   "source": [
    "41.\n",
    "\n",
    "$$\n",
    "\t\\begin{align*}\n",
    "\t\t\\mathrm{I}[\\pmb{x}, \\pmb{y}] &\\equiv \\mathrm{KL}(p(\\pmb{x}, \\pmb{y}) \\| p(\\pmb{x})p(\\pmb{y})) \\\\\n",
    "\t\t&= -\\int \\int p(\\pmb{x}, \\pmb{y}) \\ln {\\frac{p(\\pmb{x})p(\\pmb{y})}{p(\\pmb{x}, \\pmb{y})}} \\mathrm{d}\\pmb{x}\\mathrm{d}\\pmb{y} \\\\\n",
    "\t\t&= -\\int \\int p(\\pmb{x}, \\pmb{y}) \\ln {\\frac{p(\\pmb{x})p(\\pmb{y})}{p(\\pmb{x}) p(\\pmb{y}|\\pmb{x})}} \\mathrm{d}\\pmb{x}\\mathrm{d}\\pmb{y} \\\\\n",
    "\t\t&= -\\int \\int p(\\pmb{x}, \\pmb{y}) \\ln {\\frac{p(\\pmb{y})}{p(\\pmb{y}|\\pmb{x})}} \\mathrm{d}\\pmb{x}\\mathrm{d}\\pmb{y} \\\\\n",
    "\t\t&= -\\int \\int p(\\pmb{x}, \\pmb{y}) (\\ln {p(\\pmb{y})} - \\ln {p(\\pmb{y}|\\pmb{x})}) \\mathrm{d}\\pmb{x}\\mathrm{d}\\pmb{y} \\\\\n",
    "\t\t&= -\\int \\int p(\\pmb{x}, \\pmb{y}) \\ln {p(\\pmb{y})} \\mathrm{d}\\pmb{x}\\mathrm{d}\\pmb{y} + \\int \\int p(\\pmb{x}, \\pmb{y}) \\ln {p(\\pmb{y}|\\pmb{x})}) \\mathrm{d}\\pmb{x}\\mathrm{d}\\pmb{y} \\\\\n",
    "\t\t&= -\\int p(\\pmb{y}) \\ln {p(\\pmb{y})} \\mathrm{d}\\pmb{y} + \\int \\int p(\\pmb{x}, \\pmb{y}) \\ln {p(\\pmb{y}|\\pmb{x})}) \\mathrm{d}\\pmb{x}\\mathrm{d}\\pmb{y} \\\\\n",
    "\t\t&= \\mathrm{H}(\\pmb{y}) - \\mathrm{H}(\\pmb{y}|\\pmb{x}) \\\\\n",
    "\t\t\\text{Similarly,    } &= \\mathrm{H}(\\pmb{x}) - \\mathrm{H}(\\pmb{x}|\\pmb{y})\n",
    "\t\\end{align*}\n",
    "$$"
   ]
  }
 ],
 "metadata": {
  "kernelspec": {
   "display_name": "Python 3",
   "language": "python",
   "name": "python3"
  },
  "language_info": {
   "codemirror_mode": {
    "name": "ipython",
    "version": 3
   },
   "file_extension": ".py",
   "mimetype": "text/x-python",
   "name": "python",
   "nbconvert_exporter": "python",
   "pygments_lexer": "ipython3",
   "version": "3.6.8"
  }
 },
 "nbformat": 4,
 "nbformat_minor": 2
}
