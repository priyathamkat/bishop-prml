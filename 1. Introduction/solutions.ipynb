{
 "cells": [
  {
   "cell_type": "markdown",
   "metadata": {},
   "source": [
    "# 1. Introduction"
   ]
  },
  {
   "cell_type": "markdown",
   "metadata": {},
   "source": [
    "3.\n",
    "\n",
    "$$\n",
    "\t\\begin{align*}\n",
    "\t\tp(a) &= p(a, r) + p(a, b) + p(a, g) \\\\\n",
    "\t\t     &= p(r)p(a | r) + p(b)p(a | b) + p(g)p(a | g) \\\\\n",
    "\t\t     &= 0.2 \\times 3/10 + 0.2 \\times 1/2 + 0.6 \\times 3/10 \\\\\n",
    "\t\t     &= 0.34 \\\\\n",
    "\t\tp(g|o) &= \\frac{p(g)p(o|g)}{p(o)} \\\\\n",
    "\t\t\t   &= \\frac{p(g)p(o|g)}{p(r)p(o|r) + p(b)p(o|b) + p(g)p(o|g)} \\\\\n",
    "\t\t\t   &= \\frac{0.6 \\times 3/10}{0.2 \\times 4/10 + 0.2 \\times 1/2 + 0.6 \\times 3/10} \\\\\n",
    "\t\t\t   &= 0.5\n",
    "\t\\end{align*}\n",
    "$$"
   ]
  },
  {
   "cell_type": "markdown",
   "metadata": {},
   "source": [
    "11.\n",
    "\n",
    "$$\n",
    "\t\\begin{align*}\n",
    "\t\t\\ln p(\\pmb{x}|\\mu, \\sigma^2) = -\\frac{1}{2\\sigma^2}\\sum_{n=1}^{N}(x_n-\\mu)^2-\\frac{N}{2}\\ln \\sigma^2 - \\frac{N}{2}\\ln (2\\pi)\n",
    "\t\\end{align*}\n",
    "$$\n",
    "Differentiating log-likelihood with respect to $\\mu$,\n",
    "$$\n",
    "\t\\begin{align*}\n",
    "\t\t\\frac{\\mathrm{d}\\ln p(\\pmb{x}|\\mu, \\sigma^2)}{\\mathrm{d}\\mu} = \\frac{1}{2\\sigma^2}\\sum_{n=1}^{N}2(x_n-\\mu)\n",
    "\t\\end{align*}\n",
    "$$\n",
    "Setting it to 0, we get:\n",
    "$$\n",
    "\t\\begin{align*}\n",
    "\t\t\\sum_{n=1}^{N}(x_n-\\mu_{ML}) &= 0 \\\\\n",
    "\t\t\\implies \\mu_{ML} &= \\frac{1}{N}\\sum_{n=1}^{N}x_n\n",
    "\t\\end{align*}\n",
    "$$\n",
    "Differentiating log-likelihood with respect to $\\sigma^2$ ($\\mu$ is set to its optimal value $\\mu_{ML}$),\n",
    "$$\n",
    "\t\\begin{align*}\n",
    "\t\\frac{\\mathrm{d}\\ln p(\\pmb{x}|\\mu, \\sigma^2)}{\\mathrm{d}\\sigma^2} = \\frac{1}{2\\sigma^4}\\sum_{n=1}^{N}(x_n-\\mu_{ML})^2-\\frac{N}{2\\sigma^2}\n",
    "\t\\end{align*}\n",
    "$$\n",
    "Setting it to 0, we get:\n",
    "$$\n",
    "\t\\begin{align*}\n",
    "\t\t\\sigma_{ML}^2 = \\frac{1}{N}\\sum_{n=1}^N(x-\\mu_{ML})^2\n",
    "\t\\end{align*}\n",
    "$$"
   ]
  },
  {
   "cell_type": "markdown",
   "metadata": {},
   "source": [
    "30.\n",
    "\n",
    "$$\n",
    "\t\\begin{align*}\n",
    "\t\t\\mathrm{KL}(p\\|q) &= -\\int p(x) \\ln \\left(\\frac{q(x)}{p(x)}\\right) \\mathrm{d}x \\\\\n",
    "\t\t\t\t\t\t  &= -\\int p(x) \\ln \\left(\\frac{\\frac{1}{\\sqrt{2\\pi s^2}}e^{\\frac{-(x-m)^2}{2s^2}}}{\\frac{1}{\\sqrt{2\\pi \\sigma^2}}e^{\\frac{-(x-\\mu)^2}{2\\sigma^2}}}\\right) \\mathrm{d}x \\\\\n",
    "\t\t\t\t\t\t  &= -\\int p(x) \\left( \\ln \\left(\\frac{\\sigma}{s}\\right) + \\frac{(x-\\mu)^2}{2\\sigma^2} - \\frac{(x-m)^2}{2s^2}\\right) \\mathrm{d}x \\\\\n",
    "\t\t\t\t\t\t  &= \\ln \\frac{s}{\\sigma} + \\frac{1}{2s^2}\\mathrm{E}_p[(x-m)^2]-\\frac{1}{2\\sigma^2}\\mathrm{E}_p[(x-\\mu)^2] \\\\\n",
    "\t\t\t\t\t\t  &= \\ln \\frac{s}{\\sigma} + \\frac{1}{2s^2}(\\mu^2 + \\sigma^2 - 2m\\mu + m^2) - \\frac{1}{2} \\\\\n",
    "\t\t\t\t\t\t  &= \\ln \\frac{s}{\\sigma} + \\frac{1}{2s^2}(\\sigma^2 + (\\mu - m)^2) - \\frac{1}{2} \\\\\n",
    "\t\\end{align*}\n",
    "$$"
   ]
  },
  {
   "cell_type": "markdown",
   "metadata": {},
   "source": [
    "35.\n",
    "\n",
    "$$\n",
    "\t\\begin{align*}\n",
    "\t\tp(x) &= \\frac{1}{(2\\pi \\sigma^2)^{1/2}}e^{-\\frac{(x-\\mu)^2}{2\\sigma^2}} \\\\\n",
    "\t\t\\mathrm{H}[x] &= -\\int p(x) \\ln p(x) \\mathrm{d}x \\\\\n",
    "\t\t\t\t\t  &= -\\int p(x) \\ln \\left(\\frac{1}{(2\\pi \\sigma^2)^{1/2}}e^{-\\frac{(x-\\mu)^2}{2\\sigma^2}}\\right) \\mathrm{d}x\\\\\n",
    "\t\t\t\t\t  &= -\\int p(x) \\left(-\\frac{1}{2}\\ln (2\\pi \\sigma^2) - \\frac{(x-\\mu)^2}{2\\sigma^2}\\right) \\mathrm{d}x \\\\\n",
    "\t\t\t\t\t  &= \\frac{1}{2} \\ln (2\\pi \\sigma^2) \\int p(x) \\mathrm{d}x + \\int p(x) \\frac{(x-\\mu)^2}{2\\sigma^2} \\mathrm{d}x \\\\\n",
    "\t\t\t\t\t  &= \\frac{1}{2} \\ln (2\\pi \\sigma^2) \\times 1 + \\frac{1}{2\\sigma^2} \\times \\sigma^2 \\\\\n",
    "\t\t\t\t\t  &= \\frac{1}{2}\\left(1 + \\ln(2\\pi \\sigma^2)\\right)\n",
    "\t\\end{align*}\n",
    "$$"
   ]
  },
  {
   "cell_type": "markdown",
   "metadata": {},
   "source": [
    "40.\n",
    "\n",
    "Let $a_1, a_2, \\dots, a_n$ be $n$ real numbers. Applying Jensen's inequality (1.115) to the concave function $f(x) = \\ln x$ on $a_1, a_2, \\dots, a_n$ with $\\lambda_i = \\frac{1}{n} \\, \\forall i$ gives:\n",
    "$$\n",
    "\t\\begin{align*}\n",
    "\t\t\\ln \\left({\\frac{1}{n}\\sum_{i=1}^n a_i}\\right) &\\geq \\frac{1}{n}\\sum_{i=1}^n\\ln a_i \\\\\n",
    "\t\t\t\t\t\t\t\t\t\t\t\t\t   &\\geq \\frac{1}{n}\\ln \\prod_{i=1}^n a_i \\\\\n",
    "\t\t\t\t\t\t\t\t\t\t\t\t\t   &\\geq \\ln \\left(\\prod_{i=1}^n a_i\\right)^{\\frac{1}{n}} \\\\\n",
    "\t\t\\text{Exponentiating on both sides,} \\\\\n",
    "\t\t\\frac{1}{n}\\sum_{i=1}^n a_i &\\geq \\left(\\prod_{i=1}^n a_i\\right)^{\\frac{1}{n}}\n",
    "\t\\end{align*}\n",
    "$$"
   ]
  },
  {
   "cell_type": "markdown",
   "metadata": {},
   "source": [
    "41.\n",
    "\n",
    "$$\n",
    "\t\\begin{align*}\n",
    "\t\t\\mathrm{I}[\\pmb{x}, \\pmb{y}] &\\equiv \\mathrm{KL}(p(\\pmb{x}, \\pmb{y}) \\| p(\\pmb{x})p(\\pmb{y})) \\\\\n",
    "\t\t&= -\\int \\int p(\\pmb{x}, \\pmb{y}) \\ln {\\frac{p(\\pmb{x})p(\\pmb{y})}{p(\\pmb{x}, \\pmb{y})}} \\mathrm{d}\\pmb{x}\\mathrm{d}\\pmb{y} \\\\\n",
    "\t\t&= -\\int \\int p(\\pmb{x}, \\pmb{y}) \\ln {\\frac{p(\\pmb{x})p(\\pmb{y})}{p(\\pmb{x}) p(\\pmb{y}|\\pmb{x})}} \\mathrm{d}\\pmb{x}\\mathrm{d}\\pmb{y} \\\\\n",
    "\t\t&= -\\int \\int p(\\pmb{x}, \\pmb{y}) \\ln {\\frac{p(\\pmb{y})}{p(\\pmb{y}|\\pmb{x})}} \\mathrm{d}\\pmb{x}\\mathrm{d}\\pmb{y} \\\\\n",
    "\t\t&= -\\int \\int p(\\pmb{x}, \\pmb{y}) (\\ln {p(\\pmb{y})} - \\ln {p(\\pmb{y}|\\pmb{x})}) \\mathrm{d}\\pmb{x}\\mathrm{d}\\pmb{y} \\\\\n",
    "\t\t&= -\\int \\int p(\\pmb{x}, \\pmb{y}) \\ln {p(\\pmb{y})} \\mathrm{d}\\pmb{x}\\mathrm{d}\\pmb{y} + \\int \\int p(\\pmb{x}, \\pmb{y}) \\ln {p(\\pmb{y}|\\pmb{x})}) \\mathrm{d}\\pmb{x}\\mathrm{d}\\pmb{y} \\\\\n",
    "\t\t&= -\\int p(\\pmb{y}) \\ln {p(\\pmb{y})} \\mathrm{d}\\pmb{y} + \\int \\int p(\\pmb{x}, \\pmb{y}) \\ln {p(\\pmb{y}|\\pmb{x})}) \\mathrm{d}\\pmb{x}\\mathrm{d}\\pmb{y} \\\\\n",
    "\t\t&= \\mathrm{H}(\\pmb{y}) - \\mathrm{H}(\\pmb{y}|\\pmb{x}) \\\\\n",
    "\t\t\\text{Similarly,    } &= \\mathrm{H}(\\pmb{x}) - \\mathrm{H}(\\pmb{x}|\\pmb{y})\n",
    "\t\\end{align*}\n",
    "$$"
   ]
  }
 ],
 "metadata": {
  "kernelspec": {
   "display_name": "Python 3",
   "language": "python",
   "name": "python3"
  },
  "language_info": {
   "codemirror_mode": {
    "name": "ipython",
    "version": 3
   },
   "file_extension": ".py",
   "mimetype": "text/x-python",
   "name": "python",
   "nbconvert_exporter": "python",
   "pygments_lexer": "ipython3",
   "version": "3.6.8"
  }
 },
 "nbformat": 4,
 "nbformat_minor": 2
}
